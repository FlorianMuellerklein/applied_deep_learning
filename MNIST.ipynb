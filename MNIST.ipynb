{
 "cells": [
  {
   "cell_type": "markdown",
   "metadata": {},
   "source": [
    "## Classifying digits with convolutional neural networks\n",
    "\n",
    "This notebook contains the solution to the MNIST activity. "
   ]
  },
  {
   "cell_type": "markdown",
   "metadata": {},
   "source": [
    "#### Load the data\n",
    "\n",
    "Both Keras and TF-Learn contain the MNIST dataset that can be quickly loaded with some helper functions. This solution will use TF-Learn but the Keras solution will be commented out. The two libraries are very similar. "
   ]
  },
  {
   "cell_type": "code",
   "execution_count": 10,
   "metadata": {
    "collapsed": false
   },
   "outputs": [
    {
     "name": "stdout",
     "output_type": "stream",
     "text": [
      "Extracting mnist/train-images-idx3-ubyte.gz\n",
      "Extracting mnist/train-labels-idx1-ubyte.gz\n",
      "Extracting mnist/t10k-images-idx3-ubyte.gz\n",
      "Extracting mnist/t10k-labels-idx1-ubyte.gz\n"
     ]
    }
   ],
   "source": [
    "import tflearn\n",
    "import tflearn.datasets.mnist as mnist\n",
    "\n",
    "# Load data from TF-Learn \n",
    "X, Y, testX, testY = mnist.load_data(one_hot=True)\n",
    "X = X.reshape([-1, 28, 28, 1])\n",
    "testX = testX.reshape([-1, 28, 28, 1])\n"
   ]
  },
  {
   "cell_type": "markdown",
   "metadata": {},
   "source": [
    "#### Build the ConvNet \n",
    "\n",
    "Create a small convolutional that will run on a CPU, so only use about 6 and 8 kernels in each convolutional layer. For the fully connected layer, just use a 32 to 64 units as well. We won't get state of the art performance but we don't want to wait all day for it to run. "
   ]
  },
  {
   "cell_type": "code",
   "execution_count": 11,
   "metadata": {
    "collapsed": false
   },
   "outputs": [],
   "source": []
  },
  {
   "cell_type": "markdown",
   "metadata": {},
   "source": [
    "#### Train the network\n",
    "\n",
    "Train the network and use the test data as the validation set. "
   ]
  },
  {
   "cell_type": "code",
   "execution_count": 12,
   "metadata": {
    "collapsed": false
   },
   "outputs": [
    {
     "name": "stdout",
     "output_type": "stream",
     "text": [
      "Epoch 1/10\n",
      "55000/55000 [==============================] - 13s - loss: 0.7107 - acc: 0.7645    \n",
      "Epoch 2/10\n",
      "55000/55000 [==============================] - 12s - loss: 0.3706 - acc: 0.8786    \n",
      "Epoch 3/10\n",
      "55000/55000 [==============================] - 13s - loss: 0.2995 - acc: 0.9029    \n",
      "Epoch 4/10\n",
      "55000/55000 [==============================] - 12s - loss: 0.2647 - acc: 0.9140    \n",
      "Epoch 5/10\n",
      "55000/55000 [==============================] - 12s - loss: 0.2406 - acc: 0.9216    \n",
      "Epoch 6/10\n",
      "55000/55000 [==============================] - 12s - loss: 0.2223 - acc: 0.9278    \n",
      "Epoch 7/10\n",
      "55000/55000 [==============================] - 12s - loss: 0.2119 - acc: 0.9304    \n",
      "Epoch 8/10\n",
      "55000/55000 [==============================] - 12s - loss: 0.1992 - acc: 0.9347    \n",
      "Epoch 9/10\n",
      "55000/55000 [==============================] - 13s - loss: 0.1980 - acc: 0.9348    \n",
      "Epoch 10/10\n",
      "55000/55000 [==============================] - 13s - loss: 0.1900 - acc: 0.9367    \n"
     ]
    },
    {
     "data": {
      "text/plain": [
       "<keras.callbacks.History at 0x113f331d0>"
      ]
     },
     "execution_count": 12,
     "metadata": {},
     "output_type": "execute_result"
    }
   ],
   "source": []
  },
  {
   "cell_type": "code",
   "execution_count": null,
   "metadata": {
    "collapsed": true
   },
   "outputs": [],
   "source": []
  }
 ],
 "metadata": {
  "anaconda-cloud": {},
  "kernelspec": {
   "display_name": "Python [tensorflow]",
   "language": "python",
   "name": "Python [tensorflow]"
  },
  "language_info": {
   "codemirror_mode": {
    "name": "ipython",
    "version": 2
   },
   "file_extension": ".py",
   "mimetype": "text/x-python",
   "name": "python",
   "nbconvert_exporter": "python",
   "pygments_lexer": "ipython2",
   "version": "2.7.12"
  }
 },
 "nbformat": 4,
 "nbformat_minor": 0
}
