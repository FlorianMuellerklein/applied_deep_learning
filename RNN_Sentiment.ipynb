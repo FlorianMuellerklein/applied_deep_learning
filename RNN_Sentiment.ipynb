{
 "cells": [
  {
   "cell_type": "markdown",
   "metadata": {},
   "source": [
    "## Sentiment analysis with Recurrent Neural Networks\n",
    "\n",
    "For this particular dataset a shallow method like tf-idf features into logistic regression will outperform the RNN. But, what this will illustrate is just how simple it is to implement an RNN for sentiment analysis with Keras and TF-Learn. The notebook was run with Keras and the equivalent TF-Learn code will be commented out. \n",
    "\n",
    "#### Load the packages"
   ]
  },
  {
   "cell_type": "code",
   "execution_count": 5,
   "metadata": {
    "collapsed": false
   },
   "outputs": [],
   "source": [
    "import numpy as np\n",
    "\n",
    "from keras.preprocessing import sequence\n",
    "from keras.utils import np_utils\n",
    "from keras.models import Sequential\n",
    "from keras.layers import Dense, Dropout, Activation, Embedding\n",
    "from keras.layers import GRU\n",
    "from keras.datasets import imdb\n",
    "\n",
    "#import tflearn\n",
    "#from tflearn.data_utils import to_categorical, pad_sequences\n",
    "#from tflearn.datasets import imdb"
   ]
  },
  {
   "cell_type": "markdown",
   "metadata": {},
   "source": [
    "### Load the data and define some parameters\n",
    "\n",
    "maxlen - how many words to keep in each review\n",
    "max_features = number of unique words to keep in our vocabulary\n",
    "batch_size = how many sentences to run through for each gradient update\n",
    "\n",
    "The way that we treat each word is to assign it an integer to each word from 0 to max_features. We will use each integer as a lookup index for the embedding matrix that we set up as the first layer of the network. These embeddings are learned similarly to those in word2vec. Each word is then converted into the 32 dimensional vector that will encode some of that words semantic meaning. \n",
    "\n",
    "Loading the data through the Keras loader already takes care of indexing the words. So if we print what we loaded we won't be able to read it, it'll just be a vector of integers. \n",
    "\n",
    "Additionally, we might have some sentences of different lengths. So if we have shorter ones then we will just pad them with an integer that represents a no-word or blank character. "
   ]
  },
  {
   "cell_type": "code",
   "execution_count": 6,
   "metadata": {
    "collapsed": false
   },
   "outputs": [
    {
     "name": "stdout",
     "output_type": "stream",
     "text": [
      "Loading data...\n",
      "(25000, 'train sequences')\n",
      "(25000, 'test sequences')\n",
      "Pad sequences (samples x time)\n",
      "('X_train shape:', (25000, 80))\n",
      "('X_test shape:', (25000, 80))\n"
     ]
    }
   ],
   "source": [
    "max_features = 20000\n",
    "maxlen = 80  # cut texts after this number of words (among top max_features most common words)\n",
    "batch_size = 32\n",
    "\n",
    "print('Loading data...')\n",
    "(X_train, y_train), (X_test, y_test) = imdb.load_data(nb_words=max_features)\n",
    "print(len(X_train), 'train sequences')\n",
    "print(len(X_test), 'test sequences')\n",
    "\n",
    "print('Pad sequences (samples x time)')\n",
    "X_train = sequence.pad_sequences(X_train, maxlen=maxlen)\n",
    "X_test = sequence.pad_sequences(X_test, maxlen=maxlen)\n",
    "print('X_train shape:', X_train.shape)\n",
    "print('X_test shape:', X_test.shape)"
   ]
  },
  {
   "cell_type": "code",
   "execution_count": 7,
   "metadata": {
    "collapsed": false
   },
   "outputs": [
    {
     "name": "stdout",
     "output_type": "stream",
     "text": [
      "Build model...\n",
      "Train...\n",
      "Train on 25000 samples, validate on 25000 samples\n",
      "Epoch 1/10\n",
      "25000/25000 [==============================] - 141s - loss: 0.5561 - acc: 0.7078 - val_loss: 0.4600 - val_acc: 0.7934\n",
      "Epoch 2/10\n",
      "25000/25000 [==============================] - 152s - loss: 0.4075 - acc: 0.8199 - val_loss: 0.4265 - val_acc: 0.8036\n",
      "Epoch 3/10\n",
      "25000/25000 [==============================] - 144s - loss: 0.3334 - acc: 0.8603 - val_loss: 0.4077 - val_acc: 0.8143\n",
      "Epoch 4/10\n",
      "25000/25000 [==============================] - 141s - loss: 0.2764 - acc: 0.8869 - val_loss: 0.4012 - val_acc: 0.8182\n",
      "Epoch 5/10\n",
      "25000/25000 [==============================] - 143s - loss: 0.2375 - acc: 0.9046 - val_loss: 0.4164 - val_acc: 0.8172\n",
      "Epoch 6/10\n",
      "25000/25000 [==============================] - 140s - loss: 0.2093 - acc: 0.9178 - val_loss: 0.4058 - val_acc: 0.8251\n",
      "Epoch 7/10\n",
      "25000/25000 [==============================] - 147s - loss: 0.1818 - acc: 0.9300 - val_loss: 0.4205 - val_acc: 0.8266\n",
      "Epoch 8/10\n",
      "25000/25000 [==============================] - 148s - loss: 0.1595 - acc: 0.9387 - val_loss: 0.4522 - val_acc: 0.8211\n",
      "Epoch 9/10\n",
      "25000/25000 [==============================] - 141s - loss: 0.1406 - acc: 0.9468 - val_loss: 0.4581 - val_acc: 0.8227\n",
      "Epoch 10/10\n",
      "25000/25000 [==============================] - 140s - loss: 0.1328 - acc: 0.9482 - val_loss: 0.4961 - val_acc: 0.8178\n",
      "25000/25000 [==============================] - 23s    \n",
      "('Test score:', 0.49611565612792968)\n",
      "('Test accuracy:', 0.81784000000000001)\n"
     ]
    }
   ],
   "source": [
    "print('Build model...')\n",
    "model = Sequential()\n",
    "model.add(Embedding(max_features, 32, dropout=0.2))\n",
    "model.add(GRU(16, dropout_W=0.2, dropout_U=0.2))  # try using a GRU instead, for fun\n",
    "model.add(Dense(1))\n",
    "model.add(Activation('sigmoid'))\n",
    "\n",
    "# try using different optimizers and different optimizer configs\n",
    "model.compile(loss='binary_crossentropy',\n",
    "              optimizer='adam',\n",
    "              metrics=['accuracy'])\n",
    "\n",
    "print('Train...')\n",
    "model.fit(X_train, y_train, batch_size=batch_size, nb_epoch=10,\n",
    "          validation_data=(X_test, y_test))\n",
    "score, acc = model.evaluate(X_test, y_test,\n",
    "                            batch_size=batch_size)\n",
    "print('Test score:', score)\n",
    "print('Test accuracy:', acc)"
   ]
  },
  {
   "cell_type": "code",
   "execution_count": null,
   "metadata": {
    "collapsed": true
   },
   "outputs": [],
   "source": []
  }
 ],
 "metadata": {
  "kernelspec": {
   "display_name": "Python [tensorflow]",
   "language": "python",
   "name": "Python [tensorflow]"
  },
  "language_info": {
   "codemirror_mode": {
    "name": "ipython",
    "version": 2
   },
   "file_extension": ".py",
   "mimetype": "text/x-python",
   "name": "python",
   "nbconvert_exporter": "python",
   "pygments_lexer": "ipython2",
   "version": "2.7.12"
  }
 },
 "nbformat": 4,
 "nbformat_minor": 0
}
