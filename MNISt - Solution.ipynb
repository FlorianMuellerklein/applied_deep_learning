{
 "cells": [
  {
   "cell_type": "markdown",
   "metadata": {},
   "source": [
    "## Classifying digits with convolutional neural networks\n",
    "\n",
    "This notebook contains the solution to the MNIST activity. "
   ]
  },
  {
   "cell_type": "markdown",
   "metadata": {},
   "source": [
    "#### Load the data\n",
    "\n",
    "Both Keras and TF-Learn contain the MNIST dataset that can be quickly loaded with some helper functions. This solution will use TF-Learn but the Keras solution will be commented out. The two libraries are very similar. "
   ]
  },
  {
   "cell_type": "code",
   "execution_count": 1,
   "metadata": {
    "collapsed": false
   },
   "outputs": [
    {
     "name": "stdout",
     "output_type": "stream",
     "text": [
      "Downloading MNIST...\n",
      "Succesfully downloaded train-images-idx3-ubyte.gz 9912422 bytes.\n",
      "Extracting mnist/train-images-idx3-ubyte.gz\n"
     ]
    },
    {
     "name": "stderr",
     "output_type": "stream",
     "text": [
      "/Users/florianmuellerklein/anaconda/envs/tensorflow/lib/python2.7/gzip.py:275: VisibleDeprecationWarning: converting an array with ndim > 0 to an index will result in an error in the future\n",
      "  chunk = self.extrabuf[offset: offset + size]\n",
      "/Users/florianmuellerklein/anaconda/envs/tensorflow/lib/python2.7/site-packages/tflearn/datasets/mnist.py:52: VisibleDeprecationWarning: converting an array with ndim > 0 to an index will result in an error in the future\n",
      "  data = data.reshape(num_images, rows, cols, 1)\n"
     ]
    },
    {
     "name": "stdout",
     "output_type": "stream",
     "text": [
      "Downloading MNIST...\n",
      "Succesfully downloaded train-labels-idx1-ubyte.gz 28881 bytes.\n",
      "Extracting mnist/train-labels-idx1-ubyte.gz\n",
      "Downloading MNIST...\n",
      "Succesfully downloaded t10k-images-idx3-ubyte.gz 1648877 bytes.\n",
      "Extracting mnist/t10k-images-idx3-ubyte.gz\n",
      "Downloading MNIST...\n",
      "Succesfully downloaded t10k-labels-idx1-ubyte.gz 4542 bytes.\n",
      "Extracting mnist/t10k-labels-idx1-ubyte.gz\n"
     ]
    }
   ],
   "source": [
    "import tflearn\n",
    "import tflearn.datasets.mnist as mnist\n",
    "\n",
    "# Load data from TF-Learn \n",
    "X, Y, testX, testY = mnist.load_data(one_hot=True)\n",
    "X = X.reshape([-1, 28, 28, 1])\n",
    "testX = testX.reshape([-1, 28, 28, 1])\n"
   ]
  },
  {
   "cell_type": "markdown",
   "metadata": {},
   "source": [
    "#### Build the ConvNet \n",
    "\n",
    "Create a small convolutional that will run on a CPU, so only use about 6 and 8 kernels in each convolutional layer. For the fully connected layer, just use a 32 to 64 units as well. We won't get state of the art performance but we don't want to wait all day for it to run. "
   ]
  },
  {
   "cell_type": "code",
   "execution_count": 2,
   "metadata": {
    "collapsed": false
   },
   "outputs": [],
   "source": [
    "# -------------------------------------------------------------------------------------------\n",
    "# TF-Learn\n",
    "# build the network\n",
    "from tflearn.layers.core import input_data, dropout, fully_connected\n",
    "from tflearn.layers.conv import conv_2d, max_pool_2d\n",
    "from tflearn.layers.normalization import local_response_normalization\n",
    "from tflearn.layers.estimator import regression\n",
    "\n",
    "# specify the size of the input data\n",
    "net = input_data(shape=[None, 28, 28, 1], name='input')\n",
    "# for each layer, we pass (name_input_data, number of kernels, kernel size, activation function)\n",
    "net = conv_2d(net, 6, 3, activation='relu')\n",
    "net = max_pool_2d(net, 2)\n",
    "\n",
    "net = conv_2d(net, 8, 3, activation='relu')\n",
    "net = max_pool_2d(net, 2)\n",
    "\n",
    "net = fully_connected(net, 32, activation='relu')\n",
    "net = dropout(net, 0.5)\n",
    "\n",
    "net = fully_connected(net, 10, activation='softmax')\n",
    "net = regression(net, optimizer='adam', learning_rate=0.001, \n",
    "                 loss='categorical_crossentropy', name='target')\n",
    "\n",
    "# -------------------------------------------------------------------------------------------\n",
    "# Keras\n",
    "#import keras\n",
    "#from keras.models import Model\n",
    "#from keras.optimizers import Adam\n",
    "#from keras.layers import Input, Dense, Activation, Dropout, Flatten, merge\n",
    "#from keras.layers.convolutional import Convolution2D, MaxPooling2D\n",
    "\n",
    "#keras.callbacks.TensorBoard(log_dir='/tmp/tflearn_logs', histogram_freq=0, write_graph=True, write_images=False)\n",
    "\n",
    "\n",
    "#cnn_input = Input(shape=(28, 28, 1), name='Input')\n",
    "\n",
    "#net = Convolution2D(6, 3,3, activation='relu')(cnn_input)\n",
    "#net = MaxPooling2D(pool_size=(2,2))(net)\n",
    "\n",
    "#net = Convolution2D(8, 3,3, activation='relu')(net)\n",
    "#net = MaxPooling2D(pool_size=(2,2))(net)\n",
    "\n",
    "# keras uses a flatten layer when going from convolutional layers to normal\n",
    "#net = Flatten()(net)\n",
    "\n",
    "#net = Dense(32, activation='relu')(net)\n",
    "#net = Dropout(p=0.5)(net)\n",
    "\n",
    "#out = Dense(10, activation='softmax')(net)\n",
    "#model = Model(input=cnn_input, output=out)\n",
    "#adam = Adam(lr=0.001)\n",
    "#model.compile(loss='categorical_crossentropy', optimizer=adam, metrics=['accuracy'])"
   ]
  },
  {
   "cell_type": "markdown",
   "metadata": {},
   "source": [
    "#### Train the network\n",
    "\n",
    "Train the network and use the test data as the validation set. "
   ]
  },
  {
   "cell_type": "code",
   "execution_count": 3,
   "metadata": {
    "collapsed": false
   },
   "outputs": [
    {
     "name": "stdout",
     "output_type": "stream",
     "text": [
      "Training Step: 17200  | total loss: \u001b[1m\u001b[32m0.55870\u001b[0m\u001b[0m\n",
      "| Adam | epoch: 020 | loss: 0.55870 - acc: 0.9208 | val_loss: 0.05927 - val_acc: 0.9810 -- iter: 55000/55000\n",
      "Training Step: 17200  | total loss: \u001b[1m\u001b[32m0.55870\u001b[0m\u001b[0m\n",
      "| Adam | epoch: 020 | loss: 0.55870 - acc: 0.9208 | val_loss: 0.05927 - val_acc: 0.9810 -- iter: 55000/55000\n",
      "--\n"
     ]
    }
   ],
   "source": [
    "# Tf-Learn train\n",
    "model = tflearn.DNN(net, tensorboard_verbose=1)\n",
    "model.fit({'input': X}, {'target': Y}, n_epoch=20,\n",
    "           validation_set=({'input': testX}, {'target': testY}),\n",
    "           snapshot_step=100, show_metric=True, run_id='convnet_mnist')\n",
    "\n",
    "# when training the tf-learn model go to http://192.168.1.27:6006\n",
    "\n",
    "# Keras Train\n",
    "#model.fit(X, Y)"
   ]
  },
  {
   "cell_type": "code",
   "execution_count": null,
   "metadata": {
    "collapsed": true
   },
   "outputs": [],
   "source": []
  }
 ],
 "metadata": {
  "anaconda-cloud": {},
  "kernelspec": {
   "display_name": "Python [tensorflow]",
   "language": "python",
   "name": "Python [tensorflow]"
  },
  "language_info": {
   "codemirror_mode": {
    "name": "ipython",
    "version": 2
   },
   "file_extension": ".py",
   "mimetype": "text/x-python",
   "name": "python",
   "nbconvert_exporter": "python",
   "pygments_lexer": "ipython2",
   "version": "2.7.12"
  }
 },
 "nbformat": 4,
 "nbformat_minor": 0
}
